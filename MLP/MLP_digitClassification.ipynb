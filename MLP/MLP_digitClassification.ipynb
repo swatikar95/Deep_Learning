{
  "nbformat": 4,
  "nbformat_minor": 0,
  "metadata": {
    "colab": {
      "name": "MLP_digitClassification.ipynb",
      "provenance": [],
      "collapsed_sections": []
    },
    "kernelspec": {
      "name": "python3",
      "display_name": "Python 3"
    }
  },
  "cells": [
    {
      "cell_type": "code",
      "metadata": {
        "id": "Q2Iq3jf6UzfQ",
        "colab": {
          "base_uri": "https://localhost:8080/"
        },
        "outputId": "420524b7-3551-4fee-cfc2-75ec6e5aa48f"
      },
      "source": [
        "# TensorFlow and tf.keras\n",
        "import tensorflow as tf\n",
        "from tensorflow import keras\n",
        "\n",
        "# Helper libraries\n",
        "import numpy as np\n",
        "import matplotlib.pyplot as plt\n",
        "\n",
        "print(tf.__version__)"
      ],
      "execution_count": null,
      "outputs": [
        {
          "output_type": "stream",
          "name": "stdout",
          "text": [
            "2.6.0\n"
          ]
        }
      ]
    },
    {
      "cell_type": "code",
      "metadata": {
        "id": "pYepgU6tJn8Q",
        "colab": {
          "base_uri": "https://localhost:8080/"
        },
        "outputId": "fef5acf8-7f9f-41a7-ab87-122e71115688"
      },
      "source": [
        "# load digit dataset\n",
        "(train_images, train_labels), (test_images, test_labels) = keras.datasets.mnist.load_data()\n",
        "\n",
        "# load CIFAR10 dataset\n",
        "#(train_images, train_labels), (test_images, test_labels) = datasets.cifar10.load_data()\n",
        "# Normalize pixel values to be between 0 and 1\n",
        "#train_images, test_images = train_images / 255.0, test_images / 255.0\n",
        "\n",
        "\n",
        "print(\"Shape of the training dataset, number of images and resolution:\", train_images.shape)\n",
        "print(\"All distinct training labels:\", np.unique(train_labels))"
      ],
      "execution_count": null,
      "outputs": [
        {
          "output_type": "stream",
          "name": "stdout",
          "text": [
            "Downloading data from https://storage.googleapis.com/tensorflow/tf-keras-datasets/mnist.npz\n",
            "11493376/11490434 [==============================] - 0s 0us/step\n",
            "11501568/11490434 [==============================] - 0s 0us/step\n",
            "Shape of the training dataset, number of images and resolution: (60000, 28, 28)\n",
            "All distinct training labels: [0 1 2 3 4 5 6 7 8 9]\n"
          ]
        }
      ]
    },
    {
      "cell_type": "code",
      "metadata": {
        "id": "X6T67ztHYOfP",
        "colab": {
          "base_uri": "https://localhost:8080/",
          "height": 311
        },
        "outputId": "2eeaab36-fe21-4be8-f58f-fbbeb87d4e92"
      },
      "source": [
        "plt.figure()\n",
        "plt.imshow(train_images[0], cmap='gray')\n",
        "#plt.colorbar()\n",
        "plt.grid(False)\n",
        "plt.suptitle('First Training Image', fontsize=16)\n",
        "plt.show()\n",
        "print(\"First training label: \", train_labels[0])"
      ],
      "execution_count": null,
      "outputs": [
        {
          "output_type": "display_data",
          "data": {
            "image/png": "[encoded data removed]",
            "text/plain": [
              "<Figure size 432x288 with 1 Axes>"
            ]
          },
          "metadata": {
            "needs_background": "light"
          }
        },
        {
          "output_type": "stream",
          "name": "stdout",
          "text": [
            "First training label:  5\n"
          ]
        }
      ]
    },
    {
      "cell_type": "code",
      "metadata": {
        "id": "B_F9226cbJj_",
        "colab": {
          "base_uri": "https://localhost:8080/"
        },
        "outputId": "d7cb1ae1-786d-4e80-ca36-3b6fe133597a"
      },
      "source": [
        "#Model old\n",
        "model = keras.Sequential([\n",
        "    keras.layers.Flatten(input_shape=(28, 28)),       #input_shape=(28, 28) for digit\n",
        "    keras.layers.Dense(128, activation='relu'),\n",
        "    keras.layers.Dense(128, activation='relu'),\n",
        "    keras.layers.Dense(64, activation='relu'),\n",
        "    keras.layers.Dense(10)\n",
        "])\n",
        "\n",
        "model.compile(optimizer='adam',\n",
        "              loss=tf.keras.losses.SparseCategoricalCrossentropy(from_logits=True),\n",
        "              metrics=['accuracy'])\n",
        "\n",
        "history = model.fit(train_images, train_labels, epochs=10, validation_split=0.1)"
      ],
      "execution_count": null,
      "outputs": [
        {
          "output_type": "stream",
          "name": "stdout",
          "text": [
            "Epoch 1/10\n",
            "1688/1688 [==============================] - 6s 3ms/step - loss: 1.0556 - accuracy: 0.8680 - val_loss: 0.2430 - val_accuracy: 0.9347\n",
            "Epoch 2/10\n",
            "1688/1688 [==============================] - 5s 3ms/step - loss: 0.2306 - accuracy: 0.9371 - val_loss: 0.1756 - val_accuracy: 0.9525\n",
            "Epoch 3/10\n",
            "1688/1688 [==============================] - 5s 3ms/step - loss: 0.1693 - accuracy: 0.9519 - val_loss: 0.1797 - val_accuracy: 0.9523\n",
            "Epoch 4/10\n",
            "1688/1688 [==============================] - 5s 3ms/step - loss: 0.1459 - accuracy: 0.9578 - val_loss: 0.1546 - val_accuracy: 0.9557\n",
            "Epoch 5/10\n",
            "1688/1688 [==============================] - 5s 3ms/step - loss: 0.1231 - accuracy: 0.9641 - val_loss: 0.1239 - val_accuracy: 0.9642\n",
            "Epoch 6/10\n",
            "1688/1688 [==============================] - 5s 3ms/step - loss: 0.1096 - accuracy: 0.9686 - val_loss: 0.1210 - val_accuracy: 0.9640\n",
            "Epoch 7/10\n",
            "1688/1688 [==============================] - 5s 3ms/step - loss: 0.0948 - accuracy: 0.9719 - val_loss: 0.1400 - val_accuracy: 0.9645\n",
            "Epoch 8/10\n",
            "1688/1688 [==============================] - 5s 3ms/step - loss: 0.0925 - accuracy: 0.9742 - val_loss: 0.1006 - val_accuracy: 0.9728\n",
            "Epoch 9/10\n",
            "1688/1688 [==============================] - 5s 3ms/step - loss: 0.0826 - accuracy: 0.9764 - val_loss: 0.1001 - val_accuracy: 0.9745\n",
            "Epoch 10/10\n",
            "1688/1688 [==============================] - 5s 3ms/step - loss: 0.0674 - accuracy: 0.9809 - val_loss: 0.1249 - val_accuracy: 0.9717\n"
          ]
        }
      ]
    }
  ]
}